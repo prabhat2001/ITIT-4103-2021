{
 "cells": [
  {
   "cell_type": "markdown",
   "source": [
    "### ML ASSIGNMENT 3\r\n",
    "### Name: Prabhat Dwivedi\r\n",
    "### Roll No: 2018IMT-067\r\n",
    "### Course: Machine Learning Lab\r\n",
    "### Course Code: ITIT - 4107\r\n",
    "### Deadline : 02 October 2021"
   ],
   "metadata": {}
  },
  {
   "cell_type": "markdown",
   "source": [
    "a) Implementing Linear Regression"
   ],
   "metadata": {}
  },
  {
   "cell_type": "code",
   "execution_count": 1,
   "source": [
    "import numpy as np\r\n",
    "import pandas as pd\r\n",
    "from numpy.linalg import inv, norm\r\n",
    "import matplotlib.pyplot as plt"
   ],
   "outputs": [],
   "metadata": {}
  },
  {
   "cell_type": "markdown",
   "source": [
    "Generating 50 random data points and adding noise to y"
   ],
   "metadata": {}
  },
  {
   "cell_type": "code",
   "execution_count": 11,
   "source": [
    "input=np.random.random((50,1))\r\n",
    "noiseless=np.sin(1+np.square(input))\r\n",
    "noise=np.random.normal(0,0.032,size=(50,1))\r\n",
    "noisefull=noiseless+noise\r\n",
    "train=40\r\n",
    "plt.scatter(input, noisefull)\r\n",
    "plt.show()"
   ],
   "outputs": [
    {
     "output_type": "display_data",
     "data": {
      "image/png": "[encoded data removed]",
      "text/plain": [
       "<Figure size 432x288 with 1 Axes>"
      ]
     },
     "metadata": {
      "needs_background": "light"
     }
    }
   ],
   "metadata": {}
  },
  {
   "cell_type": "code",
   "execution_count": 4,
   "source": [
    "def normalize(X):\r\n",
    "    mu = X.mean(0)\r\n",
    "    std = X.std(0)\r\n",
    "    return (X - mu) / std, mu, std\r\n",
    "\r\n",
    "\r\n",
    "def add_bias_column(X):\r\n",
    "    ones = np.ones(X.shape[0]).reshape(X.shape[0], 1)\r\n",
    "    return np.concatenate((ones, X), 1)\r\n",
    "\r\n",
    "\r\n",
    "def normal_equation(X, y):\r\n",
    "    w = inv(X.T.dot(X)).dot(X.T).dot(y)\r\n",
    "    return w\r\n",
    "\r\n",
    "\r\n",
    "def compute_error(X, y, w):\r\n",
    "    return (y - X.dot(w)).T.dot(y - X.dot(w))\r\n",
    "\r\n"
   ],
   "outputs": [],
   "metadata": {}
  },
  {
   "cell_type": "code",
   "execution_count": 6,
   "source": [
    "if __name__ == '__main__':\r\n",
    "\r\n",
    "    X = input\r\n",
    "    y = noisefull\r\n",
    "    X = add_bias_column(X)\r\n",
    "    ne_w = normal_equation(X, y)\r\n",
    "    print('-' * 70)\r\n",
    "    print('Normal Equation Model:\\n', ne_w, '\\n', '-' * 70)\r\n",
    "    predict= ne_w[1] * input + ne_w[0]\r\n",
    "    for a,b in zip(predict,input):\r\n",
    "        print(a ,b)\r\n",
    "\r\n",
    "    plt.title(\"prediction\")\r\n",
    "    plt.scatter(input, predict)\r\n",
    "    plt.scatter(input, noisefull)\r\n",
    "\r\n",
    "    plt.show()"
   ],
   "outputs": [
    {
     "output_type": "stream",
     "name": "stdout",
     "text": [
      "----------------------------------------------------------------------\n",
      "Normal Equation Model:\n",
      " [[0.84648047]\n",
      " [0.16157032]] \n",
      " ----------------------------------------------------------------------\n",
      "[0.97731124] [0.80974502]\n",
      "[0.87190505] [0.15735921]\n",
      "[0.90356578] [0.35331554]\n",
      "[0.95005705] [0.64106191]\n",
      "[0.88666917] [0.24873811]\n",
      "[0.97949253] [0.82324562]\n",
      "[0.97951962] [0.82341329]\n",
      "[0.86115632] [0.09083256]\n",
      "[0.97826158] [0.81562692]\n",
      "[0.89462882] [0.29800241]\n",
      "[0.862023] [0.09619666]\n",
      "[0.85013454] [0.02261593]\n",
      "[0.94342277] [0.60000063]\n",
      "[0.99330815] [0.908754]\n",
      "[0.94623348] [0.61739687]\n",
      "[1.00346463] [0.97161504]\n",
      "[0.85073031] [0.0263033]\n",
      "[0.84965049] [0.01962001]\n",
      "[0.94128875] [0.58679262]\n",
      "[0.91384289] [0.41692323]\n",
      "[0.9620069] [0.71502258]\n",
      "[0.93474783] [0.54630922]\n",
      "[0.86415198] [0.10937344]\n",
      "[0.91526902] [0.42574991]\n",
      "[0.87249258] [0.16099556]\n",
      "[0.94979038] [0.63941141]\n",
      "[0.9931897] [0.90802087]\n",
      "[0.99367384] [0.91101734]\n",
      "[0.89024062] [0.27084273]\n",
      "[1.00151192] [0.95952922]\n",
      "[1.0052709] [0.98279455]\n",
      "[0.91557623] [0.4276513]\n",
      "[0.8619252] [0.09559133]\n",
      "[0.9292829] [0.51248537]\n",
      "[0.9887281] [0.88040688]\n",
      "[0.94115961] [0.58599334]\n",
      "[0.85406981] [0.04697233]\n",
      "[0.98335385] [0.8471443]\n",
      "[0.86509315] [0.11519862]\n",
      "[0.88746391] [0.25365695]\n",
      "[0.98699904] [0.86970533]\n",
      "[0.89063335] [0.27327344]\n",
      "[0.88080338] [0.21243324]\n",
      "[0.99034329] [0.89040372]\n",
      "[0.96690299] [0.74532569]\n",
      "[0.88482625] [0.23733179]\n",
      "[0.95806471] [0.69062338]\n",
      "[0.864145] [0.10933028]\n",
      "[0.86547656] [0.11757165]\n",
      "[0.87325026] [0.16568503]\n"
     ]
    },
    {
     "output_type": "display_data",
     "data": {
      "image/png": "[encoded data removed]",
      "text/plain": [
       "<Figure size 432x288 with 1 Axes>"
      ]
     },
     "metadata": {
      "needs_background": "light"
     }
    }
   ],
   "metadata": {}
  },
  {
   "cell_type": "markdown",
   "source": [
    "b) Implementing Polynomial Regression"
   ],
   "metadata": {}
  },
  {
   "cell_type": "code",
   "execution_count": 1,
   "source": [
    "import numpy as np\r\n",
    "from matplotlib import pyplot as plt"
   ],
   "outputs": [],
   "metadata": {}
  },
  {
   "cell_type": "code",
   "execution_count": 2,
   "source": [
    "def getPoweredX(deg, X_t):\r\n",
    "    X_pow = X_t.copy()\r\n",
    "    for i in range(2, deg + 1):\r\n",
    "        powmat = (X_t[:, 1] ** i).reshape(X_pow.shape[0], 1)\r\n",
    "        X_pow = np.append(X_pow, powmat, axis=1)\r\n",
    "    return X_pow\r\n",
    "\r\n",
    "\r\n",
    "def calculateEmpricalRisk(yh):\r\n",
    "    error = sum((Y - yh) ** 2)\r\n",
    "    return error / len(Y)"
   ],
   "outputs": [],
   "metadata": {}
  },
  {
   "cell_type": "markdown",
   "source": [
    "Generating random numbers in range of 50"
   ],
   "metadata": {}
  },
  {
   "cell_type": "code",
   "execution_count": 24,
   "source": [
    "input=np.random.random((50,1))\r\n",
    "noiseless=np.sin(1+np.square(input))\r\n",
    "noise=np.random.normal(0,0.032,size=(50,1))\r\n",
    "noisefull=noiseless+noise\r\n",
    "\r\n",
    "X = input\r\n",
    "X_train = np.append(np.ones((X.shape[0], 1)), X, axis=1)\r\n",
    "Y = noiseless"
   ],
   "outputs": [],
   "metadata": {}
  },
  {
   "cell_type": "markdown",
   "source": [
    "Applying Polynomial Regression for degree 1 and printing its corresponding error and plot"
   ],
   "metadata": {}
  },
  {
   "cell_type": "code",
   "execution_count": 25,
   "source": [
    "deg1 = 1\r\n",
    "X1 = getPoweredX(deg1, X_train)\r\n",
    "\r\n",
    "first_part = np.linalg.inv(np.dot(X1.transpose(), X1))\r\n",
    "second_part = np.dot(first_part, X1.transpose())\r\n",
    "W1 = np.dot(second_part, Y)\r\n",
    "\r\n",
    "print(\"Empirical risk for degree 1 model: \", calculateEmpricalRisk(np.dot(X1, W1)))\r\n",
    "plt.title(\"Prediction\", size = \"16\")\r\n",
    "plt.xlabel(\"Degree=1\", size = \"14\")\r\n",
    "plt.scatter(X,Y, color = \"red\")\r\n",
    "plt.scatter(X1[:,1], np.dot(X1, W1), color = \"blue\")\r\n",
    "plt.show()"
   ],
   "outputs": [
    {
     "output_type": "stream",
     "name": "stdout",
     "text": [
      "Empirical risk for degree 1 model:  [0.00035485]\n"
     ]
    },
    {
     "output_type": "display_data",
     "data": {
      "image/png": "[encoded data removed]",
      "text/plain": [
       "<Figure size 432x288 with 1 Axes>"
      ]
     },
     "metadata": {
      "needs_background": "light"
     }
    }
   ],
   "metadata": {}
  },
  {
   "cell_type": "markdown",
   "source": [
    "Applying Polynomial Regression for degree 2 and printing its corresponding error and plot"
   ],
   "metadata": {}
  },
  {
   "cell_type": "code",
   "execution_count": 27,
   "source": [
    "deg2 = 2\r\n",
    "X2 = getPoweredX(deg2, X_train)\r\n",
    "\r\n",
    "first_part = np.linalg.pinv(np.dot(X2.transpose(), X2))\r\n",
    "second_part = np.dot(first_part, X2.transpose())\r\n",
    "W2 = np.dot(second_part, Y)\r\n",
    "\r\n",
    "print(\"Empirical risk for degree 2 model: \", calculateEmpricalRisk(np.dot(X2, W2)))\r\n",
    "plt.title(\"Prediction\", size = \"16\")\r\n",
    "plt.xlabel(\"Degree=2\", size = \"14\")\r\n",
    "plt.scatter(X,Y, color = \"red\")\r\n",
    "plt.scatter(X,Y, color = \"red\")\r\n",
    "plt.scatter(X2[:,1], np.dot(X2, W2), color = \"blue\")\r\n",
    "plt.show()"
   ],
   "outputs": [
    {
     "output_type": "stream",
     "name": "stdout",
     "text": [
      "Empirical risk for degree 2 model:  [0.00022797]\n"
     ]
    },
    {
     "output_type": "display_data",
     "data": {
      "image/png": "[encoded data removed]",
      "text/plain": [
       "<Figure size 432x288 with 1 Axes>"
      ]
     },
     "metadata": {
      "needs_background": "light"
     }
    }
   ],
   "metadata": {}
  },
  {
   "cell_type": "markdown",
   "source": [
    "Applying Polynomial Regression for degree 3 and printing its corresponding error and plot"
   ],
   "metadata": {}
  },
  {
   "cell_type": "code",
   "execution_count": 29,
   "source": [
    "deg3 = 3\r\n",
    "X3 = getPoweredX(deg3, X_train)\r\n",
    "\r\n",
    "first_part = np.linalg.pinv(np.dot(X3.transpose(), X3))\r\n",
    "second_part = np.dot(first_part, X3.transpose())\r\n",
    "W3 = np.dot(second_part, Y)\r\n",
    "\r\n",
    "print(\"Empirical risk for degree 3 model: \", calculateEmpricalRisk(np.dot(X3, W3)))\r\n",
    "plt.title(\"Prediction\", size = \"16\")\r\n",
    "plt.xlabel(\"Degree=3\", size = \"14\")\r\n",
    "plt.scatter(X,Y, color = \"red\")\r\n",
    "plt.scatter(X,Y, color = \"red\")\r\n",
    "plt.scatter(X3[:,1], np.dot(X3, W3), color = \"blue\")\r\n",
    "plt.show()"
   ],
   "outputs": [
    {
     "output_type": "stream",
     "name": "stdout",
     "text": [
      "Empirical risk for degree 3 model:  [3.13268607e-06]\n"
     ]
    },
    {
     "output_type": "display_data",
     "data": {
      "image/png": "[encoded data removed]",
      "text/plain": [
       "<Figure size 432x288 with 1 Axes>"
      ]
     },
     "metadata": {
      "needs_background": "light"
     }
    }
   ],
   "metadata": {}
  },
  {
   "cell_type": "markdown",
   "source": [
    "Applying Polynomial Regression for degree 4 and printing its corresponding error and plot"
   ],
   "metadata": {}
  },
  {
   "cell_type": "code",
   "execution_count": 30,
   "source": [
    "deg4 = 4\r\n",
    "X4 = getPoweredX(deg4, X_train)\r\n",
    "\r\n",
    "first_part = np.linalg.pinv(np.dot(X4.transpose(), X4))\r\n",
    "second_part = np.dot(first_part, X4.transpose())\r\n",
    "W4 = np.dot(second_part, Y)\r\n",
    "\r\n",
    "print(\"Empirical risk for degree 4 model: \", calculateEmpricalRisk(np.dot(X4, W4)))\r\n",
    "plt.title(\"Prediction\", size = \"16\")\r\n",
    "plt.xlabel(\"Degree=4\", size = \"14\")\r\n",
    "plt.scatter(X,Y, color = \"red\")\r\n",
    "plt.scatter(X,Y, color = \"red\")\r\n",
    "plt.scatter(X4[:,1],np.dot(X4,W4), color = \"blue\")\r\n",
    "plt.show()"
   ],
   "outputs": [
    {
     "output_type": "stream",
     "name": "stdout",
     "text": [
      "Empirical risk for degree 4 model:  [1.43185264e-09]\n"
     ]
    },
    {
     "output_type": "display_data",
     "data": {
      "image/png": "[encoded data removed]",
      "text/plain": [
       "<Figure size 432x288 with 1 Axes>"
      ]
     },
     "metadata": {
      "needs_background": "light"
     }
    }
   ],
   "metadata": {}
  }
 ],
 "metadata": {
  "orig_nbformat": 4,
  "language_info": {
   "name": "python",
   "version": "3.8.8",
   "mimetype": "text/x-python",
   "codemirror_mode": {
    "name": "ipython",
    "version": 3
   },
   "pygments_lexer": "ipython3",
   "nbconvert_exporter": "python",
   "file_extension": ".py"
  },
  "kernelspec": {
   "name": "python3",
   "display_name": "Python 3.8.8 64-bit ('base': conda)"
  },
  "interpreter": {
   "hash": "d14dfefe99e1c9745d3d6d056ee54e2dd48140f0491ff1b2859b75ebe64a78b0"
  }
 },
 "nbformat": 4,
 "nbformat_minor": 2
}